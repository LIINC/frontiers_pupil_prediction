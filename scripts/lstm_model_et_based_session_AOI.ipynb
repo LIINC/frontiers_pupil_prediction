{
 "cells": [
  {
   "cell_type": "markdown",
   "metadata": {
    "colab_type": "text",
    "id": "qNQuhAp83--q"
   },
   "source": [
    "# Setup"
   ]
  },
  {
   "cell_type": "code",
   "execution_count": 2,
   "metadata": {
    "colab": {
     "base_uri": "https://localhost:8080/",
     "height": 248
    },
    "colab_type": "code",
    "id": "ebz1fKj03MSq",
    "outputId": "fd182e98-699e-4027-c64c-edc78b882286",
    "scrolled": true
   },
   "outputs": [
    {
     "name": "stdout",
     "output_type": "stream",
     "text": [
      "\u001b[2K\u001b[1GTransferred:   \t         0 / 0 Bytes, -, 0 Bytes/s, ETA -\n",
      "Checks:                 2 / 2, 100%\n",
      "Elapsed time:         0.0s\u001b[2K\u001b[1A\u001b[2K\u001b[1A\u001b[2K\u001b[1GTransferred:   \t         0 / 0 Bytes, -, 0 Bytes/s, ETA -\n",
      "Checks:                 2 / 2, 100%\n",
      "Elapsed time:         0.0s\u001b[2K\u001b[1A\u001b[2K\u001b[1A\u001b[2K\u001b[1GTransferred:   \t         0 / 0 Bytes, -, 0 Bytes/s, ETA -\n",
      "Checks:                14 / 14, 100%\n",
      "Elapsed time:         0.0s\u001b[2K\u001b[1A\u001b[2K\u001b[1A\u001b[2K\u001b[1GTransferred:   \t         0 / 0 Bytes, -, 0 Bytes/s, ETA -\n",
      "Checks:                74 / 74, 100%\n",
      "Elapsed time:         0.0s\u001b[2K\u001b[1A\u001b[2K\u001b[1A\u001b[2K\u001b[1GTransferred:   \t         0 / 0 Bytes, -, 0 Bytes/s, ETA -\n",
      "Checks:               191 / 191, 100%\n",
      "Elapsed time:         0.0s\u001b[2K\u001b[1A\u001b[2K\u001b[1A\u001b[2K\u001b[1GTransferred:   \t         0 / 0 Bytes, -, 0 Bytes/s, ETA -\n",
      "Checks:               191 / 191, 100%\n",
      "Elapsed time:         0.0s\u001b[2K\u001b[1A\u001b[2K\u001b[1A\u001b[2K\u001b[1GTransferred:   \t         0 / 0 Bytes, -, 0 Bytes/s, ETA -\n",
      "Checks:               210 / 210, 100%\n",
      "Elapsed time:         0.0s\n"
     ]
    }
   ],
   "source": [
    "import os\n",
    "'''\n",
    "Initial setup\n",
    "'''\n",
    "project_id = ''\n",
    "try:\n",
    "  import google.colab\n",
    "  IN_COLAB = True\n",
    "except:\n",
    "  IN_COLAB = False\n",
    "if IN_COLAB:\n",
    "    from google.colab import drive\n",
    "    drive.mount('/content/drive')\n",
    "    os.chdir(\"/content/drive\")\n",
    "\n",
    "    base_drive = 'Shared drives/Columbia Eyetracking Data/'\n",
    "    data_dir = 'data/'\n",
    "    os.chdir(base_drive)\n",
    "elif not IN_COLAB:\n",
    "    root_data_dir = '/home/jupyter/nsf-neurogesture/data_drive_sync'\n",
    "    \n",
    "    # 1. install command: curl https://rclone.org/install.sh | sudo bash\n",
    "    # 2. follow instructions to set up credentials, use remote login in last step: https://rclone.org/drive/\n",
    "    # !rclone sync nsf_neurogesture:data {root_data_dir} -P\n",
    "    !rclone copy nsf_neurogesture:data {root_data_dir} -P"
   ]
  },
  {
   "cell_type": "code",
   "execution_count": 11,
   "metadata": {},
   "outputs": [],
   "source": [
    "curr_run = '10-5'\n",
    "curr_dir = root_data_dir+ '/processed_data/'+curr_run + '/'"
   ]
  },
  {
   "cell_type": "code",
   "execution_count": 3,
   "metadata": {
    "colab": {
     "base_uri": "https://localhost:8080/",
     "height": 1000
    },
    "colab_type": "code",
    "id": "nuBVtxHn3-nP",
    "outputId": "91c637b8-c3f5-4f8d-fded-ce8c10f60da3",
    "scrolled": true
   },
   "outputs": [
    {
     "name": "stdout",
     "output_type": "stream",
     "text": [
      "<module 'tensorflow_core._api.v2.version' from '/opt/conda/lib/python3.7/site-packages/tensorflow_core/_api/v2/version/__init__.py'>\n",
      "Num GPUs Available:  0\n",
      "Not using GPU version of TF\n"
     ]
    }
   ],
   "source": [
    "#!pip install tensorflow-gpu\n",
    "#!pip install -U scikit-learn\n",
    "#!kill -9 -1\n",
    "# Load the TensorBoard notebook extension\n",
    "#%load_ext tensorboard\n",
    "import sys\n",
    "import numpy as np\n",
    "import pickle\n",
    "import pandas as pd\n",
    "import datetime\n",
    "import os\n",
    "import sklearn\n",
    "from sklearn import preprocessing\n",
    "from sklearn.preprocessing import StandardScaler, LabelEncoder, MinMaxScaler, Normalizer\n",
    "from sklearn.impute import SimpleImputer\n",
    "from sklearn.model_selection import train_test_split\n",
    "import tensorflow as tf\n",
    "from tensorflow.keras import backend\n",
    "from tensorflow.keras.callbacks import ModelCheckpoint, EarlyStopping, TensorBoard\n",
    "from tensorflow.keras.models import Sequential, Model\n",
    "from tensorflow.keras.optimizers import Adam\n",
    "from tensorflow.keras.layers import Reshape, BatchNormalization, LeakyReLU, concatenate, Input, LSTM, Masking, Dense, TimeDistributed, Bidirectional, Activation, Embedding, Dropout\n",
    "import matplotlib.pyplot as plt\n",
    "from sklearn.pipeline import Pipeline\n",
    "from sklearn.compose import ColumnTransformer\n",
    "\n",
    "\n",
    "tf.keras.backend.clear_session()\n",
    "print(tf.version)\n",
    "print(\"Num GPUs Available: \", len(tf.config.experimental.list_physical_devices('GPU')))\n",
    "if tf.test.gpu_device_name(): \n",
    "    print('Default GPU Device:{}'.format(tf.test.gpu_device_name()))\n",
    "    print(tf.DeviceSpec(device_type=\"GPU\", device_index=34343))\n",
    "    gpus = True\n",
    "else:\n",
    "    gpus = False\n",
    "    print(\"Not using GPU version of TF\")"
   ]
  },
  {
   "cell_type": "markdown",
   "metadata": {},
   "source": [
    "# Load Data"
   ]
  },
  {
   "cell_type": "code",
   "execution_count": 13,
   "metadata": {
    "colab": {
     "base_uri": "https://localhost:8080/",
     "height": 643
    },
    "colab_type": "code",
    "id": "1FoCwUSKgv8G",
    "outputId": "1f4a2074-aa19-4eeb-cf72-c55758c945df"
   },
   "outputs": [
    {
     "name": "stdout",
     "output_type": "stream",
     "text": [
      "The dimensions:  ('vid_type-topic-pp-block', 'block', 'feature')\n",
      "The attributes:  Coordinates:\n",
      "  * vid_type-topic-pp-block  (vid_type-topic-pp-block) <U24 'full-tarmac-a2-1' ... 'single-perspective-z2-19'\n",
      "  * block                    (block) int64 1 2 3 4 5 6 7 ... 46 47 48 49 50 51\n",
      "  * feature                  (feature) <U26 'fixation_start' ... 'blink_start_diff'\n",
      "The features:  <xarray.DataArray 'feature' (feature: 19)>\n",
      "array(['fixation_start', 'fixation_duration', 'fixation_xAvg', 'fixation_yAvg',\n",
      "       'fixation_pupilAvg', 'fixation_start_diff', 'fixation_xAvg_diff',\n",
      "       'fixation_yAvg_diff', 'fixation_aoi', 'saccades_start',\n",
      "       'saccades_duration', 'saccades_xEnd_minus_xStart',\n",
      "       'saccades_yEnd_minus_yStart', 'saccades_ampDeg', 'saccades_vPeak',\n",
      "       'saccades_start_diff', 'blink_start', 'blink_duration',\n",
      "       'blink_start_diff'], dtype='<U26')\n",
      "Coordinates:\n",
      "    vid_type-topic-pp-block  <U24 'full-bicycle-g3-1'\n",
      "  * feature                  (feature) <U26 'fixation_start' ... 'blink_start_diff'\n"
     ]
    },
    {
     "name": "stderr",
     "output_type": "stream",
     "text": [
      "/opt/conda/lib/python3.7/site-packages/numpy/lib/histograms.py:839: RuntimeWarning: invalid value encountered in greater_equal\n",
      "  keep = (tmp_a >= first_edge)\n",
      "/opt/conda/lib/python3.7/site-packages/numpy/lib/histograms.py:840: RuntimeWarning: invalid value encountered in less_equal\n",
      "  keep &= (tmp_a <= last_edge)\n"
     ]
    },
    {
     "data": {
      "image/png": "[encoded data removed]",
      "text/plain": [
       "<Figure size 432x288 with 1 Axes>"
      ]
     },
     "metadata": {
      "needs_background": "light"
     },
     "output_type": "display_data"
    }
   ],
   "source": [
    "var_to_exclude = ['fixation_pupilAvg']\n",
    "loss = 'mean_squared_error'\n",
    "early_stopping_loss = loss\n",
    "final_activation='relu'\n",
    "batch_size = 32\n",
    "epochs = 5000\n",
    "optimizer = tf.optimizers.Adam(lr=0.0001)\n",
    "#optimizer = tf.train.AdamOptimizer(0.001)\n",
    "output_scaling = False\n",
    "output_limit = False\n",
    "filter_by_mean = False\n",
    "\n",
    "dataset = pd.read_pickle(curr_dir+'processed_tensor.pkl')\n",
    "labels = np.load(curr_dir+'labels.npy')\n",
    "scaler = StandardScaler() # use the same scaler for all X\n",
    "lb = LabelEncoder()\n",
    "#imp_mean = SimpleImputer(missing_values=np.float(-999), strategy='mean')\n",
    "if output_scaling:\n",
    "  output_scaler = MinMaxScaler()\n",
    "  labels = output_scaler.fit_transform(labels.reshape(-1, 1))\n",
    "  labels = labels.reshape(-1)\n",
    "\n",
    "%matplotlib inline\n",
    "plt.hist(labels)\n",
    "plt.ylabel('Freq');\n",
    "\n",
    "print('The dimensions: ', dataset.dims)\n",
    "print('The attributes: ', dataset.coords)\n",
    "print('The features: ', dataset['feature'].values)\n",
    "#print('One sample: ', dataset.loc['full-bicycle-g3-1'])"
   ]
  },
  {
   "cell_type": "code",
   "execution_count": 14,
   "metadata": {
    "colab": {},
    "colab_type": "code",
    "id": "9w6s6rU1ty5L"
   },
   "outputs": [],
   "source": [
    "def filter_training(cond):\n",
    "  accuracy_csv = pd.read_csv('../accuracy_measures.csv')\n",
    "  accuracy_csv = accuracy_csv.applymap(lambda s:s.lower() if type(s) == str else s)\n",
    "  keys_arr = list(dataset.keys())\n",
    "  keys_arr = list(map(lambda x: x.split('-') , keys_arr))\n",
    "  if cond == 'overall_2_bins':\n",
    "    average_dict = {\n",
    "      'bicycle': 'BQAVG',\n",
    "        'perspective': 'PQAVG',\n",
    "        'tarmac': 'TQAVG'\n",
    "    }\n",
    "    mid_point = np.mean(pd.concat([accuracy_csv['TQAVG'],accuracy_csv['PQAVG'],accuracy_csv['BQAVG']]))\n",
    "    print('splitting each sequence based on the mean of overall accuracy. each participant will belong to a higher or lower category depending on their overall accuracy > or < : ', mid_point)\n",
    "    output = []\n",
    "    for key in keys_arr:\n",
    "      output.append(float(accuracy_csv[(accuracy_csv.ParticipantID == key[2]) & (accuracy_csv.Condition == key[0])][average_dict[key[1]]]))\n",
    "    greater_than = [i for i,v in enumerate(output) if v > mid_point]\n",
    "    bins_output = []\n",
    "    for num in range(len(output)):\n",
    "      if num in greater_than:\n",
    "        bins_output.append(2)  # greater than mid point\n",
    "      else:\n",
    "        bins_output.append(1)\n",
    "  return bins_output"
   ]
  },
  {
   "cell_type": "markdown",
   "metadata": {},
   "source": [
    "# Define Processing Functions"
   ]
  },
  {
   "cell_type": "code",
   "execution_count": 15,
   "metadata": {
    "colab": {},
    "colab_type": "code",
    "id": "N0CQNTqec3Ua"
   },
   "outputs": [],
   "source": [
    "def data_prep(dataset, labels, feature_list, cat_idx, num_idx):\n",
    "    if output_limit:\n",
    "      #labels = np.where(labels > np.float32(-1000), labels, np.nan)\n",
    "      #labels = np.where(labels < np.float32(1000), labels, np.nan)\n",
    "      labels = labels + np.absolute(np.min(labels))\n",
    "    if filter_by_mean:\n",
    "      bins_return = filter_training('overall_2_bins')  # split data by overall average\n",
    "      greater_than = [i for i,v in enumerate(bins_return) if v == 2]\n",
    "      lesser_than = [i for i,v in enumerate(bins_return) if v == 1]\n",
    "      labels = labels[greater_than]\n",
    "      dataset = dataset.iloc[greater_than]\n",
    "    # mask labels that are nan\n",
    "    index = ~np.isnan(labels)\n",
    "    labels = labels[index]\n",
    "    mask = np.ones(len(dataset), dtype=bool)\n",
    "    mask = index\n",
    "    dataset = dataset[mask,]\n",
    "    %matplotlib inline\n",
    "    plt.hist(labels)\n",
    "    plt.ylabel('Freq');\n",
    "    plt.show()\n",
    "    dataset_keys = dataset['vid_type-topic-pp-block'] # for lookup later\n",
    "    dataset = dataset.values\n",
    "    #encode AOI, will need to be modified if more categoricals are added later\n",
    "    lb.fit(['i','t','p','nan'])\n",
    "    print('aoi labels: ', lb.classes_)\n",
    "    for pp in range(dataset.shape[0]):\n",
    "        thiscol = dataset[pp,:,cat_idx[0]].astype(str)\n",
    "        dataset[pp,:,cat_idx[0]] = lb.transform(thiscol)\n",
    "    # ensure all data is float\n",
    "    values = dataset.astype('float32')\n",
    "\n",
    "    # isolate numerical features (refernce: https://stackoverflow.com/questions/52627739/how-to-merge-numerical-and-embedding-sequential-models-to-treat-categories-in-rn)\n",
    "    num_cats = len(cat_idx)  # number of categorical features\n",
    "    n_steps = values.shape[1]  # number of timesteps in each sample\n",
    "    n_numerical_feats = len(num_idx)  # number of numerical features in each sample\n",
    "    cat_embd_dim = [50]  # embedding dimension for each categorical feature, for now just AOI\n",
    "    numerical_input = Input(shape=(n_steps, n_numerical_feats), name='numeric_input')\n",
    "    cat_inputs = []\n",
    "    cat_size = []\n",
    "    for i in range(num_cats):\n",
    "        cat_inputs.append(Input(shape=(n_steps,), name='cat' + str(i + 1) + '_input'))\n",
    "        cat_size.append(len(lb.classes_))  # number of categories in each categorical feature\n",
    "\n",
    "    cat_embedded = []\n",
    "    for i in range(num_cats):\n",
    "        embed = Embedding(cat_size[i], cat_embd_dim[i])(cat_inputs[i])\n",
    "        cat_embedded.append(embed)\n",
    "        pass\n",
    "        \n",
    "    # impute\n",
    "    si =  SimpleImputer(missing_values=np.nan, strategy='mean')\n",
    "    for i in range(len(num_idx)):\n",
    "        feat_mean = np.nanmean(values[:,:,num_idx[i]])\n",
    "        for pp in range(values.shape[0]):\n",
    "            imputed = si.fit_transform(values[pp,:,num_idx[i]].reshape(-1,1))\n",
    "            if imputed.shape[1] == 0:\n",
    "                values[pp,:,num_idx[i]] = feat_mean # fill with feature mean\n",
    "            else:    \n",
    "                values[pp,:,num_idx[i]] = np.squeeze(imputed)\n",
    "    X_train, X_test, y_train, y_test,indices_train,indices_test = train_test_split(values,\n",
    "                                                        labels,range(len(dataset)),\n",
    "                                                        test_size=0.20)\n",
    "    return (X_train, X_test, y_train, y_test, numerical_input, cat_embedded, \n",
    "            cat_inputs, dataset_keys[indices_train], dataset_keys[indices_test])\n",
    "\n",
    "def scale_x(x):\n",
    "    # reshape values\n",
    "    nsamples, nx, num_features = x.shape\n",
    "    values = np.reshape(x, (-1, num_features))\n",
    "    values = np.where(values==np.nan, 0, values)\n",
    "    #values = imp_mean.fit_transform(values)\n",
    "    scaled = scaler.fit_transform(values)\n",
    "    scaled = np.reshape(scaled, (nsamples, nx, num_features))\n",
    "    return scaled\n",
    "\n",
    "def scale_x_test(x):\n",
    "    # reshape values\n",
    "    nsamples, nx, num_features = x.shape\n",
    "    values = np.reshape(x, (-1, num_features))\n",
    "    values = np.where(values==np.nan, 0, values)\n",
    "    #values = imp_mean.transform(values)\n",
    "    scaled = scaler.transform(values)\n",
    "    scaled = np.reshape(scaled, (nsamples, nx, num_features))\n",
    "    return scaled\n",
    "\n",
    "# root mean squared error (rmse) for regression\n",
    "def rmse(y_true, y_pred):\n",
    "    return backend.sqrt(backend.mean(backend.square(y_pred - y_true), axis=-1))\n",
    "\n",
    "# coefficient of determination (R^2) for regression\n",
    "def r_square(y_true, y_pred):\n",
    "    SS_res =  backend.sum(backend.square(y_true - y_pred))\n",
    "    SS_tot = backend.sum(backend.square(y_true - backend.mean(y_true)))\n",
    "    return (1 - SS_res/(SS_tot + backend.epsilon()))"
   ]
  },
  {
   "cell_type": "markdown",
   "metadata": {},
   "source": [
    "# LSTM Architecture with AOI Embeddings"
   ]
  },
  {
   "cell_type": "code",
   "execution_count": 16,
   "metadata": {
    "colab": {},
    "colab_type": "code",
    "id": "6hsVe7J-FvC2"
   },
   "outputs": [],
   "source": [
    "def vanilla_lstm(run_no, X_train, y_train, X_test, y_test, numerical_input, cat_embedded, cat_inputs, num_idx, cat_idx, n_steps):\n",
    "    # define the checkpoint\n",
    "    filepath = curr_dir+str(run_no)+'/'+'model.h5'\n",
    "    checkpoint = ModelCheckpoint(filepath, monitor='val_loss', verbose=1, save_best_only=True, mode='min')\n",
    "    earlystopping = EarlyStopping(monitor=early_stopping_loss, patience=500, verbose=1, mode='auto')\n",
    "    log_loc = curr_dir+str(run_no)+'/'+\"./logs\"\n",
    "    tensorboard_callback = tf.keras.callbacks.TensorBoard(log_loc, histogram_freq=1,\n",
    "                         write_graph=True,\n",
    "                         write_grads=True,\n",
    "                         batch_size=batch_size,\n",
    "                         write_images=True,\n",
    "                         update_freq = 'epoch')\n",
    "    callbacks_list = [checkpoint, earlystopping, tensorboard_callback]\n",
    "    cat_merged = cat_embedded[0]  # can be another concatenate if more than one categorical\n",
    "    merged = concatenate([numerical_input, cat_merged])\n",
    "    x = (Bidirectional(LSTM(64, return_sequences=True, dropout=0.2, recurrent_dropout=0.2)))(merged)\n",
    "    x = BatchNormalization()(x)\n",
    "    x = (Bidirectional(LSTM(64, dropout=0.2, recurrent_dropout=0.2)))(x)\n",
    "    x = BatchNormalization()(x)\n",
    "    x = (Dense(units=1, activation=final_activation))(x)\n",
    "    model = Model(inputs=[numerical_input] + cat_inputs, outputs=x)\n",
    "    model.summary()\n",
    "    \n",
    "    X_tr_numerical = scale_x(X_train[:, :, num_idx])\n",
    "    X_te_numerical = scale_x_test(X_test[:, :, num_idx])\n",
    "\n",
    "    \n",
    "    X_tr_cat1 = np.squeeze(X_train[:, :, cat_idx], axis=2)\n",
    "    X_te_cat1 = np.squeeze(X_test[:, :, cat_idx], axis=2)\n",
    "    model.compile(\n",
    "          optimizer=optimizer,\n",
    "          loss=loss,\n",
    "          metrics=[loss, rmse, r_square]\n",
    "      )\n",
    "    # inline tensorboard (more limited)\n",
    "    #%tensorboard --logdir logs --port=6006\n",
    "    result = model.fit({\n",
    "          'numeric_input': X_tr_numerical,\n",
    "          'cat1_input': X_tr_cat1},\n",
    "          y_train, \n",
    "          epochs=epochs, batch_size=batch_size, validation_split=0.15, callbacks=callbacks_list)\n",
    "    model.evaluate({'numeric_input': X_te_numerical,\n",
    "               'cat1_input': X_te_cat1},\n",
    "               y_test)\n",
    "    # get predictions\n",
    "    y_pred = model.predict({'numeric_input': X_te_numerical,\n",
    "               'cat1_input': X_te_cat1})\n",
    "    with open(curr_dir+str(run_no)+'/'+'training_history.pkl', 'wb') as file_pi:\n",
    "        pickle.dump(result.history, file_pi)"
   ]
  },
  {
   "cell_type": "markdown",
   "metadata": {},
   "source": [
    "# Plot Results each Run "
   ]
  },
  {
   "cell_type": "code",
   "execution_count": 17,
   "metadata": {
    "colab": {},
    "colab_type": "code",
    "id": "k0ow5uiMvJNr"
   },
   "outputs": [],
   "source": [
    "def load_existing_model(load_model_path, result_path, X_train, y_train, X_test, y_test, numerical_input, cat_embedded, cat_inputs,\n",
    "                        num_idx, cat_idx, n_steps):\n",
    "    X_tr_numerical = scale_x(X_train[:, :, num_idx])\n",
    "    X_te_numerical = scale_x_test(X_test[:, :, num_idx])\n",
    "    # extract categorical features: you can use a for loop to this as well.\n",
    "    # note that we reshape categorical features to make them consistent with the updated solution\n",
    "    X_tr_cat1 = np.squeeze(X_train[:, :, cat_idx], axis=2)\n",
    "    X_te_cat1 = np.squeeze(X_test[:, :, cat_idx], axis=2)\n",
    "\n",
    "    model = tf.keras.models.load_model(load_model_path, custom_objects={'rmse': rmse, 'r_square': r_square})\n",
    "    model.compile(\n",
    "        optimizer=optimizer,\n",
    "        loss=loss,\n",
    "        metrics=[loss, rmse, r_square]\n",
    "    )\n",
    "    model.evaluate({'numeric_input': X_te_numerical,\n",
    "                                 'cat1_input': X_te_cat1},\n",
    "                                y_test)\n",
    "    # get predictions\n",
    "    y_pred = model.predict({'numeric_input': X_te_numerical,\n",
    "                            'cat1_input': X_te_cat1})\n",
    "    if output_scaling:\n",
    "      y_pred = output_scaler.inverse_transform(y_pred)\n",
    "      y_test = output_scaler.inverse_transform(y_test)\n",
    "    # -----------------------------------------------------------------------------\n",
    "    # Plot learning curves including R^2 and RMSE\n",
    "    # -----------------------------------------------------------------------------\n",
    "    if os.path.exists(result_path):\n",
    "      result = pickle.load( open(result_path, \"rb\" ) )\n",
    "      # plot training curve for R^2 (beware of scale, starts very low negative)\n",
    "      plt.plot(result['val_r_square'])\n",
    "      plt.plot(result['r_square'])\n",
    "      plt.title('model R^2')\n",
    "      plt.ylabel('R^2')\n",
    "      plt.xlabel('epoch')\n",
    "      plt.legend(['train', 'test'], loc='upper left')\n",
    "      plt.show()\n",
    "\n",
    "      # plot training curve for rmse\n",
    "      plt.plot(result['rmse'])\n",
    "      plt.plot(result['val_rmse'])\n",
    "      plt.title('rmse')\n",
    "      plt.ylabel('rmse')\n",
    "      plt.xlabel('epoch')\n",
    "      plt.legend(['train', 'test'], loc='upper left')\n",
    "      plt.show()\n",
    "    \n",
    "    # print the linear regression and display datapoints\n",
    "    from sklearn.linear_model import LinearRegression\n",
    "    regressor = LinearRegression()\n",
    "    regressor.fit(y_test.reshape(-1, 1), y_pred)\n",
    "    y_fit = regressor.predict(y_pred)\n",
    "\n",
    "    reg_intercept = round(regressor.intercept_[0], 4)\n",
    "    reg_coef = round(regressor.coef_.flatten()[0], 4)\n",
    "    reg_label = \"y = \" + str(reg_intercept) + \"*x +\" + str(reg_coef)\n",
    "\n",
    "    plt.scatter(y_test, y_pred, color='blue', label='data')\n",
    "    plt.plot(y_pred, y_fit, color='red', linewidth=2, label='Linear regression\\n' + reg_label)\n",
    "    #plt.ylim(1913.95, 1913.96)\n",
    "    plt.title('Linear Regression')\n",
    "    plt.legend()\n",
    "    plt.xlabel('observed')\n",
    "    plt.ylabel('predicted')\n",
    "    plt.show()\n",
    "    \n",
    "    return y_pred"
   ]
  },
  {
   "cell_type": "markdown",
   "metadata": {},
   "source": [
    "# Train 10 Times and Plot Predicted Test Sample Pupil Diameters"
   ]
  },
  {
   "cell_type": "code",
   "execution_count": null,
   "metadata": {
    "colab": {
     "base_uri": "https://localhost:8080/",
     "height": 771
    },
    "colab_type": "code",
    "id": "wORQ79ke9DXM",
    "outputId": "7e9de0a6-80fa-4082-91ab-ad703360b7ff",
    "scrolled": true
   },
   "outputs": [],
   "source": [
    "def model_runs(run_num=10):\n",
    "    feature_list = list(dataset['feature'].values)\n",
    "    categorical_var_list = ['fixation_aoi']\n",
    "    mask_categorical_outcome = list(categorical_var_list)\n",
    "    mask_categorical_outcome.extend(var_to_exclude)\n",
    "    cat_idx = [feature_list.index(cat) for cat in categorical_var_list]\n",
    "    num_vars_list = [i for i in feature_list if i not in mask_categorical_outcome]\n",
    "    num_idx = [feature_list.index(num) for num in num_vars_list]\n",
    "    for i in range(run_num):\n",
    "        if not os.path.exists(str(i)):\n",
    "            os.makedirs(str(i))\n",
    "        X_train, X_test, y_train, y_test, numerical_input, cat_embedded, cat_inputs, train_keys, test_keys= data_prep(dataset, labels, feature_list, cat_idx, num_idx)\n",
    "        if not os.path.exists(str(i)+'/'+'model.h5'):\n",
    "            with open(str(i)+'/'+'saved_data.pkl', 'wb') as f:\n",
    "                pickle.dump([X_train, y_train, X_test, y_test, num_idx, cat_idx, train_keys, test_keys], f)\n",
    "            vanilla_lstm(i, X_train, y_train, X_test, y_test, numerical_input, cat_embedded, cat_inputs, num_idx, cat_idx, n_steps=dataset.shape[1]) \n",
    "        else:\n",
    "          if os.path.exists('saved_data.pkl'):\n",
    "            with open(str(i)+'/'+'saved_data.pkl', 'rb') as f:\n",
    "              X_train, y_train, X_test, y_test, num_idx, cat_idx, train_keys, test_keys = pickle.load(f)\n",
    "              # to test for whether model is doing anything\n",
    "              #np.random.shuffle(y_test)\n",
    "        y_pred = load_existing_model(str(i)+'/'+'model.h5',str(i)+'/'+'training_history.pkl', X_train, y_train, X_test, y_test, numerical_input, cat_embedded, cat_inputs, num_idx, cat_idx, n_steps=dataset.shape[1])\n",
    "        print('done')\n",
    "\n",
    "model_runs(run_num=10)"
   ]
  }
 ],
 "metadata": {
  "accelerator": "GPU",
  "colab": {
   "collapsed_sections": [],
   "machine_shape": "hm",
   "name": "lstm_model_et_based_session_1.ipynb",
   "provenance": []
  },
  "kernelspec": {
   "display_name": "Python 3",
   "language": "python",
   "name": "python3"
  },
  "language_info": {
   "codemirror_mode": {
    "name": "ipython",
    "version": 3
   },
   "file_extension": ".py",
   "mimetype": "text/x-python",
   "name": "python",
   "nbconvert_exporter": "python",
   "pygments_lexer": "ipython3",
   "version": "3.7.4"
  },
  "pycharm": {
   "stem_cell": {
    "cell_type": "raw",
    "metadata": {
     "collapsed": false
    },
    "source": []
   }
  }
 },
 "nbformat": 4,
 "nbformat_minor": 4
}
